{
 "cells": [
  {
   "cell_type": "code",
   "execution_count": null,
   "id": "d1eef28d-45d7-48e8-a6ef-79405c37ab50",
   "metadata": {},
   "outputs": [],
   "source": []
  },
  {
   "cell_type": "markdown",
   "id": "8d3dbd04-9ad7-49ba-a2ed-4114d832570a",
   "metadata": {},
   "source": [
    "### 1. Data Preparation\n",
    "    - Load the Fashion-MNIST dataset.\n",
    "    - Preprocess the data (e.g., normalization, reshaping, etc.).\n",
    "    - Split the dataset into training, validation, and testing sets.}, use pytorch and give me code step "
   ]
  },
  {
   "cell_type": "code",
   "execution_count": 134,
   "id": "6b8abfd3-fc1b-41c8-ab56-d79e0ff1b4c7",
   "metadata": {
    "tags": []
   },
   "outputs": [],
   "source": [
    "import torch\n",
    "from torchvision import datasets, transforms\n",
    "from torch.utils.data import DataLoader, random_split"
   ]
  },
  {
   "cell_type": "code",
   "execution_count": 135,
   "id": "4448a661-d16d-4226-aa8c-410ef2d3183d",
   "metadata": {
    "tags": []
   },
   "outputs": [],
   "source": [
    "# Step 1: Define transformation for data preprocessing\n",
    "transform = transforms.Compose([\n",
    "    transforms.ToTensor(), # Convert PIL image or numpy ndarray to tensor\n",
    "    transforms.Normalize((0.5,), (0.5,)) # Normalize tensor with mean and std dev\n",
    "])"
   ]
  },
  {
   "cell_type": "code",
   "execution_count": 136,
   "id": "3277fde0-ccf1-4edb-9240-3a1f566b77bb",
   "metadata": {
    "tags": []
   },
   "outputs": [
    {
     "name": "stdout",
     "output_type": "stream",
     "text": [
      "Downloading http://fashion-mnist.s3-website.eu-central-1.amazonaws.com/train-images-idx3-ubyte.gz\n",
      "Downloading http://fashion-mnist.s3-website.eu-central-1.amazonaws.com/train-images-idx3-ubyte.gz to ./data\\FashionMNIST\\raw\\train-images-idx3-ubyte.gz\n"
     ]
    },
    {
     "name": "stderr",
     "output_type": "stream",
     "text": [
      "100%|██████████| 26421880/26421880 [01:25<00:00, 310811.68it/s] \n"
     ]
    },
    {
     "name": "stdout",
     "output_type": "stream",
     "text": [
      "Extracting ./data\\FashionMNIST\\raw\\train-images-idx3-ubyte.gz to ./data\\FashionMNIST\\raw\n",
      "\n",
      "Downloading http://fashion-mnist.s3-website.eu-central-1.amazonaws.com/train-labels-idx1-ubyte.gz\n",
      "Downloading http://fashion-mnist.s3-website.eu-central-1.amazonaws.com/train-labels-idx1-ubyte.gz to ./data\\FashionMNIST\\raw\\train-labels-idx1-ubyte.gz\n"
     ]
    },
    {
     "name": "stderr",
     "output_type": "stream",
     "text": [
      "100%|██████████| 29515/29515 [00:00<00:00, 159808.95it/s]\n"
     ]
    },
    {
     "name": "stdout",
     "output_type": "stream",
     "text": [
      "Extracting ./data\\FashionMNIST\\raw\\train-labels-idx1-ubyte.gz to ./data\\FashionMNIST\\raw\n",
      "\n",
      "Downloading http://fashion-mnist.s3-website.eu-central-1.amazonaws.com/t10k-images-idx3-ubyte.gz\n",
      "Downloading http://fashion-mnist.s3-website.eu-central-1.amazonaws.com/t10k-images-idx3-ubyte.gz to ./data\\FashionMNIST\\raw\\t10k-images-idx3-ubyte.gz\n"
     ]
    },
    {
     "name": "stderr",
     "output_type": "stream",
     "text": [
      "100%|██████████| 4422102/4422102 [00:27<00:00, 159370.30it/s]\n"
     ]
    },
    {
     "name": "stdout",
     "output_type": "stream",
     "text": [
      "Extracting ./data\\FashionMNIST\\raw\\t10k-images-idx3-ubyte.gz to ./data\\FashionMNIST\\raw\n",
      "\n",
      "Downloading http://fashion-mnist.s3-website.eu-central-1.amazonaws.com/t10k-labels-idx1-ubyte.gz\n",
      "Downloading http://fashion-mnist.s3-website.eu-central-1.amazonaws.com/t10k-labels-idx1-ubyte.gz to ./data\\FashionMNIST\\raw\\t10k-labels-idx1-ubyte.gz\n"
     ]
    },
    {
     "name": "stderr",
     "output_type": "stream",
     "text": [
      "100%|██████████| 5148/5148 [00:00<?, ?it/s]\n"
     ]
    },
    {
     "name": "stdout",
     "output_type": "stream",
     "text": [
      "Extracting ./data\\FashionMNIST\\raw\\t10k-labels-idx1-ubyte.gz to ./data\\FashionMNIST\\raw\n",
      "\n"
     ]
    }
   ],
   "source": [
    "# Step 2: Load Fashion-MNIST dataset\n",
    "train_dataset = datasets.FashionMNIST(root='./data', train=True, download=True, transform=transform)\n",
    "test_dataset = datasets.FashionMNIST(root='./data', train=False, download=True, transform=transform)"
   ]
  },
  {
   "cell_type": "code",
   "execution_count": 137,
   "id": "d865efba-72ff-48c7-a61a-4f37463292e9",
   "metadata": {
    "tags": []
   },
   "outputs": [],
   "source": [
    "# Step 3: Split the dataset into training and validation sets\n",
    "train_size = int(0.8 * len(train_dataset))\n",
    "val_size = len(train_dataset) - train_size\n",
    "train_dataset, val_dataset = random_split(train_dataset, [train_size, val_size])"
   ]
  },
  {
   "cell_type": "code",
   "execution_count": 138,
   "id": "9826c866-a037-469d-8c2d-bc6ace26d557",
   "metadata": {
    "tags": []
   },
   "outputs": [],
   "source": [
    "# Step 4: Define data loaders\n",
    "train_loader = DataLoader(train_dataset, batch_size=64, shuffle=True)\n",
    "val_loader = DataLoader(val_dataset, batch_size=64, shuffle=False)\n",
    "test_loader = DataLoader(test_dataset, batch_size=64, shuffle=False)"
   ]
  },
  {
   "cell_type": "markdown",
   "id": "a10c86a8-ed92-4f35-8bd8-f8f065e1ae6b",
   "metadata": {},
   "source": [
    "### 2. Model Architecture\n",
    "    - Define the architecture of the CNN model.\n",
    "    - Choose appropriate activation functions and loss functions.\n",
    "    - Select an optimization algorithm (e.g., Adam, SGD, etc.)."
   ]
  },
  {
   "cell_type": "code",
   "execution_count": 140,
   "id": "13a73c21-6534-4339-94e1-5157b3b9098a",
   "metadata": {
    "tags": []
   },
   "outputs": [],
   "source": [
    "import torch\n",
    "import torch.nn as nn\n",
    "import torch.nn.functional as F"
   ]
  },
  {
   "cell_type": "code",
   "execution_count": 141,
   "id": "f698e15d-5413-4d17-b382-bdd394920051",
   "metadata": {
    "tags": []
   },
   "outputs": [],
   "source": [
    "# Define the CNN model architecture\n",
    "class FashionCNN(nn.Module):\n",
    "    def __init__(self):\n",
    "        super(FashionCNN, self).__init__()\n",
    "        self.conv1 = nn.Conv2d(in_channels=1, out_channels=32, kernel_size=3, stride=1, padding=1)\n",
    "        self.conv2 = nn.Conv2d(in_channels=32, out_channels=64, kernel_size=3, stride=1, padding=1)\n",
    "        self.conv3 = nn.Conv2d(in_channels=64, out_channels=128, kernel_size=3, stride=1, padding=1)\n",
    "        self.fc1 = nn.Linear(128 * 4 * 4, 256) # 128*4*4 is the flattened shape of the output from conv3\n",
    "        self.fc2 = nn.Linear(256, 10) # 10 classes for Fashion-MNIST dataset\n",
    "\n",
    "    def forward(self, x):\n",
    "        x = F.relu(self.conv1(x))\n",
    "        x = F.max_pool2d(x, kernel_size=2, stride=2)\n",
    "        x = F.relu(self.conv2(x))\n",
    "        x = F.max_pool2d(x, kernel_size=2, stride=2)\n",
    "        x = F.relu(self.conv3(x))\n",
    "        x = F.max_pool2d(x, kernel_size=2, stride=2)\n",
    "        x = x.view(-1, 128 * 4 * 4) # Flatten the output from conv3\n",
    "        x = F.relu(self.fc1(x))\n",
    "        x = F.dropout(x, p=0.5, training=self.training) # Apply dropout with probability 0.5 during training\n",
    "        x = self.fc2(x)\n",
    "        return x\n",
    "\n",
    "# Instantiate the model\n",
    "model = FashionCNN()\n",
    "\n",
    "# Choose appropriate activation functions and loss function\n",
    "activation_function = nn.ReLU()\n",
    "loss_function = nn.CrossEntropyLoss()\n",
    "\n",
    "# Select an optimization algorithm\n",
    "optimizer = torch.optim.Adam(model.parameters(), lr=0.001)\n"
   ]
  },
  {
   "cell_type": "markdown",
   "id": "0137916d-737b-418a-9213-ae15580fcdb0",
   "metadata": {},
   "source": [
    "### 3. Model Training\n",
    "    - Train the model on the training set.\n",
    "    - Use the validation set to monitor the performance and prevent overfitting.\n",
    "    - Tune hyperparameters (e.g., learning rate, batch size, etc.) as needed.\n"
   ]
  },
  {
   "cell_type": "code",
   "execution_count": 142,
   "id": "a39d7c33-ed78-41d7-95e9-b4ac6fcd1347",
   "metadata": {
    "tags": []
   },
   "outputs": [],
   "source": [
    "import torch\n",
    "import torch.nn as nn\n",
    "import torch.optim as optim\n",
    "import torch.nn.functional as F\n",
    "from torch.utils.data import DataLoader, random_split\n",
    "from torchvision import datasets, transforms"
   ]
  },
  {
   "cell_type": "code",
   "execution_count": 143,
   "id": "68020508-adc3-44b6-b30b-7fcbee73f353",
   "metadata": {
    "tags": []
   },
   "outputs": [],
   "source": [
    "# Define the CNN model architecture\n",
    "class FashionCNN(nn.Module):\n",
    "    def __init__(self):\n",
    "        super(FashionCNN, self).__init__()\n",
    "        self.conv1 = nn.Conv2d(1, 32, 3, padding=1)\n",
    "        self.conv2 = nn.Conv2d(32, 64, 3, padding=1)\n",
    "        self.conv3 = nn.Conv2d(64, 128, 3, padding=1)\n",
    "        self.pool = nn.MaxPool2d(2, 2)\n",
    "        self.fc1 = nn.Linear(128 * 3 * 3, 512)\n",
    "        self.fc2 = nn.Linear(512, 10)\n",
    "\n",
    "    def forward(self, x):\n",
    "        x = self.pool(F.relu(self.conv1(x)))\n",
    "        x = self.pool(F.relu(self.conv2(x)))\n",
    "        x = self.pool(F.relu(self.conv3(x)))\n",
    "        x = x.view(-1, 128 * 3 * 3)\n",
    "        x = F.relu(self.fc1(x))\n",
    "        x = self.fc2(x)\n",
    "        return x"
   ]
  },
  {
   "cell_type": "code",
   "execution_count": 144,
   "id": "fe8ab8d5-60ed-4703-92f7-59f97c76c28d",
   "metadata": {
    "tags": []
   },
   "outputs": [],
   "source": [
    "# Define transformation for data preprocessing\n",
    "transform = transforms.Compose([\n",
    "    transforms.ToTensor(), # Convert PIL image or numpy ndarray to tensor\n",
    "    transforms.Normalize((0.5,), (0.5,)) # Normalize tensor with mean and std dev\n",
    "])"
   ]
  },
  {
   "cell_type": "code",
   "execution_count": null,
   "id": "57870518-f916-43e0-8488-d06627baf5ac",
   "metadata": {},
   "outputs": [],
   "source": []
  },
  {
   "cell_type": "code",
   "execution_count": 145,
   "id": "deb54106-5ac2-4e95-8479-cc25564d99b2",
   "metadata": {
    "tags": []
   },
   "outputs": [],
   "source": [
    "# Load Fashion-MNIST dataset and split into training, validation, and testing sets\n",
    "train_dataset = datasets.FashionMNIST(root='./data', train=True, download=True, transform=transform)\n",
    "test_dataset = datasets.FashionMNIST(root='./data', train=False, download=True, transform=transform)\n",
    "train_size = int(0.8 * len(train_dataset))\n",
    "val_size = len(train_dataset) - train_size\n",
    "train_dataset, val_dataset = random_split(train_dataset, [train_size, val_size])\n",
    "train_loader = DataLoader(train_dataset, batch_size=64, shuffle=True)\n",
    "val_loader = DataLoader(val_dataset, batch_size=64, shuffle=False)\n",
    "test_loader = DataLoader(test_dataset, batch_size=64, shuffle=False)"
   ]
  },
  {
   "cell_type": "code",
   "execution_count": 146,
   "id": "ee114fb8-9811-44c6-bb3f-75a4f8d2d089",
   "metadata": {
    "tags": []
   },
   "outputs": [],
   "source": [
    "# Initialize the model, loss function, and optimizer\n",
    "model = FashionCNN()\n",
    "loss_function = nn.CrossEntropyLoss()\n",
    "optimizer = optim.Adam(model.parameters(), lr=0.001)"
   ]
  },
  {
   "cell_type": "code",
   "execution_count": 147,
   "id": "6c4c384d-2fca-4068-86f1-aed7a31559e0",
   "metadata": {
    "tags": []
   },
   "outputs": [
    {
     "name": "stdout",
     "output_type": "stream",
     "text": [
      "Epoch 1, Training Loss: 0.471742800762256\n",
      "Epoch 1, Validation Accuracy: 0.87625\n",
      "Epoch 2, Training Loss: 0.2812457219610612\n",
      "Epoch 2, Validation Accuracy: 0.9023333333333333\n",
      "Epoch 3, Training Loss: 0.23128002096712588\n",
      "Epoch 3, Validation Accuracy: 0.9116666666666666\n",
      "Epoch 4, Training Loss: 0.19843971207737923\n",
      "Epoch 4, Validation Accuracy: 0.9141666666666667\n",
      "Epoch 5, Training Loss: 0.17375181645900012\n",
      "Epoch 5, Validation Accuracy: 0.9164166666666667\n",
      "Epoch 6, Training Loss: 0.15142245532323917\n",
      "Epoch 6, Validation Accuracy: 0.9190833333333334\n",
      "Epoch 7, Training Loss: 0.1305362629815936\n",
      "Epoch 7, Validation Accuracy: 0.92075\n",
      "Epoch 8, Training Loss: 0.1122128099401792\n",
      "Epoch 8, Validation Accuracy: 0.919\n",
      "Epoch 9, Training Loss: 0.09630536169372499\n",
      "Epoch 9, Validation Accuracy: 0.92\n",
      "Epoch 10, Training Loss: 0.0806205318197608\n",
      "Epoch 10, Validation Accuracy: 0.9213333333333333\n"
     ]
    }
   ],
   "source": [
    "# Training the model\n",
    "num_epochs = 10\n",
    "for epoch in range(num_epochs):\n",
    "    model.train()  # Set model to training mode\n",
    "    running_loss = 0.0\n",
    "    for i, data in enumerate(train_loader, 0):\n",
    "        inputs, labels = data\n",
    "        optimizer.zero_grad()  # Zero the parameter gradients\n",
    "        outputs = model(inputs)  # Forward pass\n",
    "        loss = loss_function(outputs, labels)  # Calculate loss\n",
    "        loss.backward()  # Backward pass\n",
    "        optimizer.step()  # Update weights\n",
    "        running_loss += loss.item()\n",
    "    print(f\"Epoch {epoch+1}, Training Loss: {running_loss / len(train_loader)}\")\n",
    "\n",
    "    # Validation\n",
    "    model.eval()  # Set model to evaluation mode\n",
    "    correct = 0\n",
    "    total = 0\n",
    "    with torch.no_grad():\n",
    "        for data in val_loader:\n",
    "            images, labels = data\n",
    "            outputs = model(images)\n",
    "            _, predicted = torch.max(outputs.data, 1)\n",
    "            total += labels.size(0)\n",
    "            correct += (predicted == labels).sum().item()\n",
    "    print(f\"Epoch {epoch+1}, Validation Accuracy: {correct / total}\")"
   ]
  },
  {
   "cell_type": "markdown",
   "id": "cd0a1316-270b-4b55-ae5f-635ad71f8642",
   "metadata": {},
   "source": [
    "### 4. Model Evaluation\n",
    "    - Evaluate the trained model on the test set.\n",
    "    - Calculate relevant metrics such as accuracy, precision, recall, and F1-score.\n",
    "    - Visualize the results (e.g., confusion matrix, classification report, etc.)."
   ]
  },
  {
   "cell_type": "code",
   "execution_count": 149,
   "id": "cf9bb261-fe74-4a07-8651-26604e598ddb",
   "metadata": {
    "tags": []
   },
   "outputs": [],
   "source": [
    "import torch\n",
    "import torch.nn as nn\n",
    "import torch.optim as optim\n",
    "import torch.nn.functional as F\n",
    "from torch.utils.data import DataLoader, random_split\n",
    "from torchvision import datasets, transforms\n",
    "from sklearn.metrics import classification_report, confusion_matrix\n",
    "import numpy as np\n",
    "import matplotlib.pyplot as plt\n",
    "\n",
    "# Step 1: Define the CNN model architecture (same as before)\n",
    "\n",
    "# Step 2: Define transformation for data preprocessing (same as before)\n",
    "\n",
    "# Step 3: Load Fashion-MNIST dataset and split into training, validation, and testing sets (same as before)\n",
    "\n",
    "# Step 4: Initialize the model, loss function, and optimizer (same as before)\n",
    "\n",
    "# Step 5: Training the model (same as before)\n"
   ]
  },
  {
   "cell_type": "code",
   "execution_count": 150,
   "id": "04f13496-eca4-4463-8bc7-9eab58f577b5",
   "metadata": {
    "tags": []
   },
   "outputs": [
    {
     "name": "stdout",
     "output_type": "stream",
     "text": [
      "Test Accuracy: 0.9159\n"
     ]
    }
   ],
   "source": [
    "# Step 6: Evaluate the trained model on the test set\n",
    "model.eval()  # Set model to evaluation mode\n",
    "correct = 0\n",
    "total = 0\n",
    "predictions = []\n",
    "labels = []\n",
    "with torch.no_grad():\n",
    "    for data in test_loader:\n",
    "        images, target = data\n",
    "        outputs = model(images)\n",
    "        _, predicted = torch.max(outputs.data, 1)\n",
    "        total += target.size(0)\n",
    "        correct += (predicted == target).sum().item()\n",
    "        predictions.extend(predicted)\n",
    "        labels.extend(target)\n",
    "print(f\"Test Accuracy: {correct / total}\")"
   ]
  },
  {
   "cell_type": "code",
   "execution_count": 151,
   "id": "865614df-69ef-49fb-bbb8-5997314e6688",
   "metadata": {
    "tags": []
   },
   "outputs": [
    {
     "name": "stdout",
     "output_type": "stream",
     "text": [
      "Accuracy: 0.9159, Precision: 0.9939271255060729, Recall: 0.982, F1-Score: 0.9879275653923542\n"
     ]
    }
   ],
   "source": [
    "# Step 7: Calculate relevant metrics such as accuracy, precision, recall, and F1-score\n",
    "predictions = torch.tensor(predictions).numpy()\n",
    "labels = torch.tensor(labels).numpy()\n",
    "accuracy = np.sum(predictions == labels) / len(labels)\n",
    "precision = np.sum((predictions == 1) & (labels == 1)) / np.sum(predictions == 1)\n",
    "recall = np.sum((predictions == 1) & (labels == 1)) / np.sum(labels == 1)\n",
    "f1_score = 2 * (precision * recall) / (precision + recall)\n",
    "print(f\"Accuracy: {accuracy}, Precision: {precision}, Recall: {recall}, F1-Score: {f1_score}\")"
   ]
  },
  {
   "cell_type": "code",
   "execution_count": 152,
   "id": "69bad6e1-e303-44fb-9004-14359feba037",
   "metadata": {
    "tags": []
   },
   "outputs": [
    {
     "data": {
      "image/png": "[encoded data removed]",
      "text/plain": [
       "<Figure size 1000x800 with 2 Axes>"
      ]
     },
     "metadata": {},
     "output_type": "display_data"
    }
   ],
   "source": [
    "# Step 8: Visualize the results (e.g., confusion matrix, classification report, etc.)\n",
    "conf_matrix = confusion_matrix(labels, predictions)\n",
    "class_names = ['T-shirt/top', 'Trouser', 'Pullover', 'Dress', 'Coat',\n",
    "               'Sandal', 'Shirt', 'Sneaker', 'Bag', 'Ankle boot']\n",
    "plt.figure(figsize=(10, 8))\n",
    "plt.imshow(conf_matrix, interpolation='nearest', cmap=plt.cm.Blues)\n",
    "plt.title('Confusion Matrix')\n",
    "plt.colorbar()\n",
    "tick_marks = np.arange(len(class_names))\n",
    "plt.xticks(tick_marks, class_names, rotation=45)\n",
    "plt.yticks(tick_marks, class_names)\n",
    "plt.xlabel('Predicted Label')\n",
    "plt.ylabel('True Label')\n",
    "plt.show()"
   ]
  },
  {
   "cell_type": "code",
   "execution_count": 153,
   "id": "dc795a66-f60e-4aea-928d-89f407124947",
   "metadata": {
    "tags": []
   },
   "outputs": [
    {
     "name": "stdout",
     "output_type": "stream",
     "text": [
      "              precision    recall  f1-score   support\n",
      "\n",
      " T-shirt/top       0.86      0.87      0.87      1000\n",
      "     Trouser       0.99      0.98      0.99      1000\n",
      "    Pullover       0.87      0.89      0.88      1000\n",
      "       Dress       0.92      0.93      0.92      1000\n",
      "        Coat       0.90      0.84      0.87      1000\n",
      "      Sandal       0.98      0.97      0.98      1000\n",
      "       Shirt       0.75      0.78      0.76      1000\n",
      "     Sneaker       0.93      0.98      0.96      1000\n",
      "         Bag       0.97      0.98      0.98      1000\n",
      "  Ankle boot       0.99      0.95      0.97      1000\n",
      "\n",
      "    accuracy                           0.92     10000\n",
      "   macro avg       0.92      0.92      0.92     10000\n",
      "weighted avg       0.92      0.92      0.92     10000\n",
      "\n"
     ]
    }
   ],
   "source": [
    "# Classification Report\n",
    "print(classification_report(labels, predictions, target_names=class_names))"
   ]
  },
  {
   "cell_type": "markdown",
   "id": "311cc6dc-4b45-4fb9-aa58-71f6d0b9f6a3",
   "metadata": {},
   "source": [
    "### 5. Model Deployment (Optional)\n",
    "    - Save the trained model for future use.\n",
    "    - Deploy the model for inference on new data (e.g., using PyTorch Serving, PyTorch Lite, etc.)."
   ]
  },
  {
   "cell_type": "code",
   "execution_count": 154,
   "id": "808498e3-5a35-4d14-98f8-d20af030e8e2",
   "metadata": {
    "tags": []
   },
   "outputs": [],
   "source": [
    "# Save the trained model\n",
    "torch.save(model.state_dict(), '../models/fashion_mnist_model.pth')\n"
   ]
  },
  {
   "cell_type": "code",
   "execution_count": 155,
   "id": "2fa6094e-2cee-4686-9dbb-206709eb4df4",
   "metadata": {
    "tags": []
   },
   "outputs": [
    {
     "data": {
      "text/plain": [
       "FashionCNN(\n",
       "  (conv1): Conv2d(1, 32, kernel_size=(3, 3), stride=(1, 1), padding=(1, 1))\n",
       "  (conv2): Conv2d(32, 64, kernel_size=(3, 3), stride=(1, 1), padding=(1, 1))\n",
       "  (conv3): Conv2d(64, 128, kernel_size=(3, 3), stride=(1, 1), padding=(1, 1))\n",
       "  (pool): MaxPool2d(kernel_size=2, stride=2, padding=0, dilation=1, ceil_mode=False)\n",
       "  (fc1): Linear(in_features=1152, out_features=512, bias=True)\n",
       "  (fc2): Linear(in_features=512, out_features=10, bias=True)\n",
       ")"
      ]
     },
     "execution_count": 155,
     "metadata": {},
     "output_type": "execute_result"
    }
   ],
   "source": [
    "# Load the saved model\n",
    "model = FashionCNN()\n",
    "model.load_state_dict(torch.load('../models/fashion_mnist_model.pth'))\n",
    "model.eval()\n"
   ]
  }
 ],
 "metadata": {
  "kernelspec": {
   "display_name": "Python 3 (ipykernel)",
   "language": "python",
   "name": "python3"
  },
  "language_info": {
   "codemirror_mode": {
    "name": "ipython",
    "version": 3
   },
   "file_extension": ".py",
   "mimetype": "text/x-python",
   "name": "python",
   "nbconvert_exporter": "python",
   "pygments_lexer": "ipython3",
   "version": "3.8.16"
  }
 },
 "nbformat": 4,
 "nbformat_minor": 5
}
