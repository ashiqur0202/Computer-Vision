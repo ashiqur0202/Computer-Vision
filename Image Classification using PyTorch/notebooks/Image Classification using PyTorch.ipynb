{
 "cells": [
  {
   "cell_type": "code",
   "execution_count": 1,
   "id": "681a4e71-fe7e-4eec-8ab8-28d474971046",
   "metadata": {
    "tags": []
   },
   "outputs": [],
   "source": [
    "import pandas as pd"
   ]
  },
  {
   "cell_type": "code",
   "execution_count": 12,
   "id": "0e07fbbe-c86f-40ee-8bc3-d2b28b16137d",
   "metadata": {
    "tags": []
   },
   "outputs": [],
   "source": [
    "# from fastai.vision import *\n",
    "# from fastai.metrics import error_rate\n",
    "# from fastai.basics import URLs, untar_data\n",
    "\n",
    "# # Define the URL of the food-101 dataset\n",
    "# food_url = URLs.FOOD\n",
    "\n",
    "# # Download and extract the dataset\n",
    "# path = untar_data(food_url)"
   ]
  },
  {
   "cell_type": "code",
   "execution_count": 6,
   "id": "8772610c-ffb0-4d5d-9b15-71cfc0fe67c1",
   "metadata": {
    "tags": []
   },
   "outputs": [],
   "source": [
    "import pandas as pd\n",
    "\n",
    "train_path = 'F:\\\\Data Science\\\\GitHub\\\\Computer-Vision\\\\Data\\\\data\\\\food-101\\\\train.txt'\n",
    "test_path = 'F:\\\\Data Science\\\\GitHub\\\\Computer-Vision\\\\Data\\\\data\\\\food-101\\\\test.txt'\n",
    "\n",
    "def filelist2df(path):\n",
    "    df = pd.read_csv(path, delimiter='/', header=None, names=['label', 'name'])\n",
    "    df['name'] = df['label'].astype(str) + \"/\" + df['name'].astype(str) + \".jpg\"\n",
    "    return df\n",
    "\n",
    "train_df = filelist2df(train_path)\n",
    "\n",
    "test_df = filelist2df(test_path)\n"
   ]
  },
  {
   "cell_type": "code",
   "execution_count": 7,
   "id": "52a91d21-ecec-4658-8dcd-dbaeffea7882",
   "metadata": {},
   "outputs": [
    {
     "data": {
      "text/html": [
       "<div>\n",
       "<style scoped>\n",
       "    .dataframe tbody tr th:only-of-type {\n",
       "        vertical-align: middle;\n",
       "    }\n",
       "\n",
       "    .dataframe tbody tr th {\n",
       "        vertical-align: top;\n",
       "    }\n",
       "\n",
       "    .dataframe thead th {\n",
       "        text-align: right;\n",
       "    }\n",
       "</style>\n",
       "<table border=\"1\" class=\"dataframe\">\n",
       "  <thead>\n",
       "    <tr style=\"text-align: right;\">\n",
       "      <th></th>\n",
       "      <th>label</th>\n",
       "      <th>name</th>\n",
       "    </tr>\n",
       "  </thead>\n",
       "  <tbody>\n",
       "    <tr>\n",
       "      <th>0</th>\n",
       "      <td>apple_pie</td>\n",
       "      <td>apple_pie/1005649.jpg</td>\n",
       "    </tr>\n",
       "    <tr>\n",
       "      <th>1</th>\n",
       "      <td>apple_pie</td>\n",
       "      <td>apple_pie/1014775.jpg</td>\n",
       "    </tr>\n",
       "    <tr>\n",
       "      <th>2</th>\n",
       "      <td>apple_pie</td>\n",
       "      <td>apple_pie/1026328.jpg</td>\n",
       "    </tr>\n",
       "    <tr>\n",
       "      <th>3</th>\n",
       "      <td>apple_pie</td>\n",
       "      <td>apple_pie/1028787.jpg</td>\n",
       "    </tr>\n",
       "    <tr>\n",
       "      <th>4</th>\n",
       "      <td>apple_pie</td>\n",
       "      <td>apple_pie/1043283.jpg</td>\n",
       "    </tr>\n",
       "    <tr>\n",
       "      <th>...</th>\n",
       "      <td>...</td>\n",
       "      <td>...</td>\n",
       "    </tr>\n",
       "    <tr>\n",
       "      <th>75745</th>\n",
       "      <td>waffles</td>\n",
       "      <td>waffles/981485.jpg</td>\n",
       "    </tr>\n",
       "    <tr>\n",
       "      <th>75746</th>\n",
       "      <td>waffles</td>\n",
       "      <td>waffles/98238.jpg</td>\n",
       "    </tr>\n",
       "    <tr>\n",
       "      <th>75747</th>\n",
       "      <td>waffles</td>\n",
       "      <td>waffles/982668.jpg</td>\n",
       "    </tr>\n",
       "    <tr>\n",
       "      <th>75748</th>\n",
       "      <td>waffles</td>\n",
       "      <td>waffles/995085.jpg</td>\n",
       "    </tr>\n",
       "    <tr>\n",
       "      <th>75749</th>\n",
       "      <td>waffles</td>\n",
       "      <td>waffles/999047.jpg</td>\n",
       "    </tr>\n",
       "  </tbody>\n",
       "</table>\n",
       "<p>75750 rows × 2 columns</p>\n",
       "</div>"
      ],
      "text/plain": [
       "           label                   name\n",
       "0      apple_pie  apple_pie/1005649.jpg\n",
       "1      apple_pie  apple_pie/1014775.jpg\n",
       "2      apple_pie  apple_pie/1026328.jpg\n",
       "3      apple_pie  apple_pie/1028787.jpg\n",
       "4      apple_pie  apple_pie/1043283.jpg\n",
       "...          ...                    ...\n",
       "75745    waffles     waffles/981485.jpg\n",
       "75746    waffles      waffles/98238.jpg\n",
       "75747    waffles     waffles/982668.jpg\n",
       "75748    waffles     waffles/995085.jpg\n",
       "75749    waffles     waffles/999047.jpg\n",
       "\n",
       "[75750 rows x 2 columns]"
      ]
     },
     "execution_count": 7,
     "metadata": {},
     "output_type": "execute_result"
    }
   ],
   "source": [
    "train_df"
   ]
  },
  {
   "cell_type": "code",
   "execution_count": null,
   "id": "6070dd0f-c3f2-4510-8281-a41be89f27a7",
   "metadata": {},
   "outputs": [],
   "source": [
    "hi"
   ]
  },
  {
   "cell_type": "code",
   "execution_count": null,
   "id": "5cf73bf1-aac6-484e-a9c7-73802b7dac25",
   "metadata": {},
   "outputs": [],
   "source": []
  }
 ],
 "metadata": {
  "kernelspec": {
   "display_name": "Python 3 (ipykernel)",
   "language": "python",
   "name": "python3"
  },
  "language_info": {
   "codemirror_mode": {
    "name": "ipython",
    "version": 3
   },
   "file_extension": ".py",
   "mimetype": "text/x-python",
   "name": "python",
   "nbconvert_exporter": "python",
   "pygments_lexer": "ipython3",
   "version": "3.8.16"
  }
 },
 "nbformat": 4,
 "nbformat_minor": 5
}
